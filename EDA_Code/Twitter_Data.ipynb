{
 "cells": [
  {
   "cell_type": "code",
   "execution_count": 1,
   "metadata": {},
   "outputs": [],
   "source": [
    "# import libraries\n",
    "import tweepy\n",
    "import pandas as pd\n",
    "import json\n",
    "\n",
    "# load credentials from json file\n",
    "with open('APIkeys.json', 'r') as file:\n",
    "    cred = json.load(file)"
   ]
  },
  {
   "cell_type": "code",
   "execution_count": 2,
   "metadata": {},
   "outputs": [],
   "source": [
    "# auth keys for Twitter\n",
    "auth = tweepy.OAuthHandler(cred['CON_KEY'], cred['SECRET_KEY'])\n",
    "auth.set_access_token(cred['ACC_KEY'], cred['ACC_SECRET_KEY'])\n",
    "api = tweepy.API(auth, wait_on_rate_limit=True, wait_on_rate_limit_notify=True)"
   ]
  },
  {
   "cell_type": "code",
   "execution_count": 3,
   "metadata": {},
   "outputs": [],
   "source": [
    "# search criteria\n",
    "tweet_data = []\n",
    "user_tweets = []\n",
    "keywords = \"(Bitcoin OR BTC OR crypto OR cryptocurrency OR #bitcoin OR #BTC OR ETH OR Ethereum OR #ETH OR #ethereum) \"\n",
    "users = ['(from:elonmusk)', '(from:danheld)', '(from:CathieDWood)', '(from:CalvinAyre)', '(from:APompliano)', \n",
    "         '(from:jack)', '(from:cz_binance)', '(from:justinsuntron)', '(from:brian_armstrong)', '(from:tyler)', \n",
    "         '(from:cameron)', '(from:VitalikButerin)', '(from:jimcramer)', '(from:peterschiff)', '(from:michael_saylor)',\n",
    "         '(from:HowardMarksBook)', '(from:RayDalio)', '(from:BillAckman)', '(from:TruthGundlach)',\n",
    "         '(from:Frances_Coppola)']"
   ]
  },
  {
   "cell_type": "code",
   "execution_count": 4,
   "metadata": {},
   "outputs": [],
   "source": [
    "# search functions\n",
    "def tweet_scrape(keywords, users):\n",
    "    for user in users:\n",
    "        user_tweets.append(api.search_full_archive('Dev', query = keywords + user , fromDate = '202002010000',\n",
    "                                                   toDate = '202102150000', maxResults = 500))\n",
    "def tweet_to_read(x):\n",
    "    for h in range(len(x)):\n",
    "        for i in range(len(x[h])):\n",
    "            text = x[h][i].text\n",
    "            date = x[h][i].created_at\n",
    "            tweeter = x[h][i].user.screen_name\n",
    "            tweet_data.append({'User': tweeter, 'Tweet': text, 'Date': date})"
   ]
  },
  {
   "cell_type": "code",
   "execution_count": 5,
   "metadata": {},
   "outputs": [],
   "source": [
    "tweet_scrape(keywords, users)"
   ]
  },
  {
   "cell_type": "code",
   "execution_count": 6,
   "metadata": {},
   "outputs": [],
   "source": [
    "tweet_to_read(user_tweets)"
   ]
  },
  {
   "cell_type": "code",
   "execution_count": 7,
   "metadata": {},
   "outputs": [
    {
     "data": {
      "text/html": [
       "<div>\n",
       "<style scoped>\n",
       "    .dataframe tbody tr th:only-of-type {\n",
       "        vertical-align: middle;\n",
       "    }\n",
       "\n",
       "    .dataframe tbody tr th {\n",
       "        vertical-align: top;\n",
       "    }\n",
       "\n",
       "    .dataframe thead th {\n",
       "        text-align: right;\n",
       "    }\n",
       "</style>\n",
       "<table border=\"1\" class=\"dataframe\">\n",
       "  <thead>\n",
       "    <tr style=\"text-align: right;\">\n",
       "      <th></th>\n",
       "      <th>User</th>\n",
       "      <th>Tweet</th>\n",
       "      <th>Date</th>\n",
       "    </tr>\n",
       "  </thead>\n",
       "  <tbody>\n",
       "    <tr>\n",
       "      <th>0</th>\n",
       "      <td>elonmusk</td>\n",
       "      <td>@freewalletorg Any crypto wallet that won’t gi...</td>\n",
       "      <td>2021-02-10 07:13:58</td>\n",
       "    </tr>\n",
       "    <tr>\n",
       "      <th>1</th>\n",
       "      <td>elonmusk</td>\n",
       "      <td>@itsALLrisky Doge appears to be inflationary, ...</td>\n",
       "      <td>2021-02-08 05:27:36</td>\n",
       "    </tr>\n",
       "    <tr>\n",
       "      <th>2</th>\n",
       "      <td>elonmusk</td>\n",
       "      <td>@itsALLrisky It’s the most fun crypto!</td>\n",
       "      <td>2021-02-07 06:24:50</td>\n",
       "    </tr>\n",
       "    <tr>\n",
       "      <th>3</th>\n",
       "      <td>elonmusk</td>\n",
       "      <td>Dogecoin is the people’s crypto</td>\n",
       "      <td>2021-02-04 08:15:26</td>\n",
       "    </tr>\n",
       "    <tr>\n",
       "      <th>4</th>\n",
       "      <td>elonmusk</td>\n",
       "      <td>Bitcoin is almost as bs as fiat money</td>\n",
       "      <td>2020-12-20 09:24:37</td>\n",
       "    </tr>\n",
       "    <tr>\n",
       "      <th>5</th>\n",
       "      <td>elonmusk</td>\n",
       "      <td>Bitcoin is my safe word</td>\n",
       "      <td>2020-12-20 08:21:25</td>\n",
       "    </tr>\n",
       "    <tr>\n",
       "      <th>6</th>\n",
       "      <td>elonmusk</td>\n",
       "      <td>@trylolli @Maisie_Williams 👻 💵 \\nhttps://t.co/...</td>\n",
       "      <td>2020-11-17 06:54:03</td>\n",
       "    </tr>\n",
       "    <tr>\n",
       "      <th>7</th>\n",
       "      <td>elonmusk</td>\n",
       "      <td>@Maisie_Williams 🎶 Toss a bitcoin to ur Witcher 🎶</td>\n",
       "      <td>2020-11-16 22:02:51</td>\n",
       "    </tr>\n",
       "    <tr>\n",
       "      <th>8</th>\n",
       "      <td>elonmusk</td>\n",
       "      <td>@WilliamShatner @VitalikButerin @ethereum @mat...</td>\n",
       "      <td>2020-07-02 16:42:52</td>\n",
       "    </tr>\n",
       "    <tr>\n",
       "      <th>9</th>\n",
       "      <td>elonmusk</td>\n",
       "      <td>@jk_rowling Pretty much, although massive curr...</td>\n",
       "      <td>2020-05-15 22:03:01</td>\n",
       "    </tr>\n",
       "  </tbody>\n",
       "</table>\n",
       "</div>"
      ],
      "text/plain": [
       "       User                                              Tweet  \\\n",
       "0  elonmusk  @freewalletorg Any crypto wallet that won’t gi...   \n",
       "1  elonmusk  @itsALLrisky Doge appears to be inflationary, ...   \n",
       "2  elonmusk             @itsALLrisky It’s the most fun crypto!   \n",
       "3  elonmusk                    Dogecoin is the people’s crypto   \n",
       "4  elonmusk              Bitcoin is almost as bs as fiat money   \n",
       "5  elonmusk                            Bitcoin is my safe word   \n",
       "6  elonmusk  @trylolli @Maisie_Williams 👻 💵 \\nhttps://t.co/...   \n",
       "7  elonmusk  @Maisie_Williams 🎶 Toss a bitcoin to ur Witcher 🎶   \n",
       "8  elonmusk  @WilliamShatner @VitalikButerin @ethereum @mat...   \n",
       "9  elonmusk  @jk_rowling Pretty much, although massive curr...   \n",
       "\n",
       "                 Date  \n",
       "0 2021-02-10 07:13:58  \n",
       "1 2021-02-08 05:27:36  \n",
       "2 2021-02-07 06:24:50  \n",
       "3 2021-02-04 08:15:26  \n",
       "4 2020-12-20 09:24:37  \n",
       "5 2020-12-20 08:21:25  \n",
       "6 2020-11-17 06:54:03  \n",
       "7 2020-11-16 22:02:51  \n",
       "8 2020-07-02 16:42:52  \n",
       "9 2020-05-15 22:03:01  "
      ]
     },
     "execution_count": 7,
     "metadata": {},
     "output_type": "execute_result"
    }
   ],
   "source": [
    "#convert to dataframe\n",
    "df = pd.DataFrame.from_dict(tweet_data)\n",
    "df.head(10)"
   ]
  },
  {
   "cell_type": "code",
   "execution_count": 8,
   "metadata": {},
   "outputs": [
    {
     "data": {
      "text/plain": [
       "5473"
      ]
     },
     "execution_count": 8,
     "metadata": {},
     "output_type": "execute_result"
    }
   ],
   "source": [
    "len(df)"
   ]
  },
  {
   "cell_type": "code",
   "execution_count": 9,
   "metadata": {},
   "outputs": [
    {
     "name": "stdout",
     "output_type": "stream",
     "text": [
      "tweets.csv has been saved\n"
     ]
    }
   ],
   "source": [
    "df.to_csv('..//Data//tweets.csv', index = False)\n",
    "print('tweets.csv has been saved')"
   ]
  }
 ],
 "metadata": {
  "kernelspec": {
   "display_name": "Python 3",
   "language": "python",
   "name": "python3"
  },
  "language_info": {
   "codemirror_mode": {
    "name": "ipython",
    "version": 3
   },
   "file_extension": ".py",
   "mimetype": "text/x-python",
   "name": "python",
   "nbconvert_exporter": "python",
   "pygments_lexer": "ipython3",
   "version": "3.8.5"
  }
 },
 "nbformat": 4,
 "nbformat_minor": 4
}
